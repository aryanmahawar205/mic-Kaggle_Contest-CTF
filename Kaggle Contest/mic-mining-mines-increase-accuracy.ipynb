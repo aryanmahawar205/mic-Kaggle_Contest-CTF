{
 "cells": [
  {
   "cell_type": "code",
   "execution_count": 1,
   "id": "d8353499",
   "metadata": {
    "_cell_guid": "b1076dfc-b9ad-4769-8c92-a6c4dae69d19",
    "_uuid": "8f2839f25d086af736a60e9eeb907d3b93b6e0e5",
    "execution": {
     "iopub.execute_input": "2024-10-05T07:32:19.308306Z",
     "iopub.status.busy": "2024-10-05T07:32:19.307538Z",
     "iopub.status.idle": "2024-10-05T07:32:21.316896Z",
     "shell.execute_reply": "2024-10-05T07:32:21.316068Z"
    },
    "papermill": {
     "duration": 2.016881,
     "end_time": "2024-10-05T07:32:21.319028",
     "exception": false,
     "start_time": "2024-10-05T07:32:19.302147",
     "status": "completed"
    },
    "tags": []
   },
   "outputs": [],
   "source": [
    "import numpy as np\n",
    "import pandas as pd\n",
    "from sklearn.preprocessing import StandardScaler\n",
    "from sklearn.model_selection import RandomizedSearchCV, StratifiedKFold\n",
    "import xgboost as xgb"
   ]
  },
  {
   "cell_type": "code",
   "execution_count": 2,
   "id": "aacb98a0",
   "metadata": {
    "execution": {
     "iopub.execute_input": "2024-10-05T07:32:21.328180Z",
     "iopub.status.busy": "2024-10-05T07:32:21.327767Z",
     "iopub.status.idle": "2024-10-05T07:32:23.842540Z",
     "shell.execute_reply": "2024-10-05T07:32:23.841682Z"
    },
    "papermill": {
     "duration": 2.521773,
     "end_time": "2024-10-05T07:32:23.844865",
     "exception": false,
     "start_time": "2024-10-05T07:32:21.323092",
     "status": "completed"
    },
    "tags": []
   },
   "outputs": [],
   "source": [
    "train = pd.read_csv(\"/kaggle/input/mic-contest-mining-mines/Train.csv\")"
   ]
  },
  {
   "cell_type": "code",
   "execution_count": 3,
   "id": "20296be2",
   "metadata": {
    "execution": {
     "iopub.execute_input": "2024-10-05T07:32:23.854395Z",
     "iopub.status.busy": "2024-10-05T07:32:23.854055Z",
     "iopub.status.idle": "2024-10-05T07:32:23.859924Z",
     "shell.execute_reply": "2024-10-05T07:32:23.859018Z"
    },
    "papermill": {
     "duration": 0.01262,
     "end_time": "2024-10-05T07:32:23.861934",
     "exception": false,
     "start_time": "2024-10-05T07:32:23.849314",
     "status": "completed"
    },
    "tags": []
   },
   "outputs": [],
   "source": [
    "def clean_numeric(cell_value):\n",
    "    value_str = str(cell_value).strip()\n",
    "    cleaned_value = ''.join([char for char in value_str if char.isdigit() or char == '.'])\n",
    "    if cleaned_value.count('.') > 1:\n",
    "        first_dot_index = cleaned_value.index('.')\n",
    "        cleaned_value = cleaned_value[:first_dot_index + 1] + cleaned_value[first_dot_index + 1:].replace('.', '')\n",
    "    return cleaned_value"
   ]
  },
  {
   "cell_type": "code",
   "execution_count": 4,
   "id": "10266652",
   "metadata": {
    "execution": {
     "iopub.execute_input": "2024-10-05T07:32:23.870346Z",
     "iopub.status.busy": "2024-10-05T07:32:23.870057Z",
     "iopub.status.idle": "2024-10-05T07:32:23.878605Z",
     "shell.execute_reply": "2024-10-05T07:32:23.877345Z"
    },
    "papermill": {
     "duration": 0.015164,
     "end_time": "2024-10-05T07:32:23.880734",
     "exception": false,
     "start_time": "2024-10-05T07:32:23.865570",
     "status": "completed"
    },
    "tags": []
   },
   "outputs": [],
   "source": [
    "def clean_and_convert_to_float(df):\n",
    "    for col in df.columns:\n",
    "        if col != 'Label':\n",
    "            df[col] = df[col].apply(clean_numeric)\n",
    "            df[col] = pd.to_numeric(df[col], errors='coerce')\n",
    "    return df"
   ]
  },
  {
   "cell_type": "code",
   "execution_count": 5,
   "id": "9a87cf6a",
   "metadata": {
    "execution": {
     "iopub.execute_input": "2024-10-05T07:32:23.889851Z",
     "iopub.status.busy": "2024-10-05T07:32:23.889580Z",
     "iopub.status.idle": "2024-10-05T07:32:32.099301Z",
     "shell.execute_reply": "2024-10-05T07:32:32.098524Z"
    },
    "papermill": {
     "duration": 8.216899,
     "end_time": "2024-10-05T07:32:32.101575",
     "exception": false,
     "start_time": "2024-10-05T07:32:23.884676",
     "status": "completed"
    },
    "tags": []
   },
   "outputs": [],
   "source": [
    "train = clean_and_convert_to_float(train)"
   ]
  },
  {
   "cell_type": "code",
   "execution_count": 6,
   "id": "dade052b",
   "metadata": {
    "execution": {
     "iopub.execute_input": "2024-10-05T07:32:32.110768Z",
     "iopub.status.busy": "2024-10-05T07:32:32.110471Z",
     "iopub.status.idle": "2024-10-05T07:32:32.139832Z",
     "shell.execute_reply": "2024-10-05T07:32:32.139087Z"
    },
    "papermill": {
     "duration": 0.03612,
     "end_time": "2024-10-05T07:32:32.141768",
     "exception": false,
     "start_time": "2024-10-05T07:32:32.105648",
     "status": "completed"
    },
    "tags": []
   },
   "outputs": [],
   "source": [
    "X_train = train.drop(['??', 'Label'], axis=1)\n",
    "Y_train = train['Label'].map({'R': 0, 'M': 1})"
   ]
  },
  {
   "cell_type": "code",
   "execution_count": 7,
   "id": "29e1b435",
   "metadata": {
    "execution": {
     "iopub.execute_input": "2024-10-05T07:32:32.152155Z",
     "iopub.status.busy": "2024-10-05T07:32:32.151453Z",
     "iopub.status.idle": "2024-10-05T07:32:32.195620Z",
     "shell.execute_reply": "2024-10-05T07:32:32.194741Z"
    },
    "papermill": {
     "duration": 0.051114,
     "end_time": "2024-10-05T07:32:32.197911",
     "exception": false,
     "start_time": "2024-10-05T07:32:32.146797",
     "status": "completed"
    },
    "tags": []
   },
   "outputs": [],
   "source": [
    "scaler = StandardScaler()\n",
    "X_train = scaler.fit_transform(X_train)"
   ]
  },
  {
   "cell_type": "code",
   "execution_count": 8,
   "id": "ca4f555f",
   "metadata": {
    "execution": {
     "iopub.execute_input": "2024-10-05T07:32:32.207235Z",
     "iopub.status.busy": "2024-10-05T07:32:32.206927Z",
     "iopub.status.idle": "2024-10-05T07:32:32.212448Z",
     "shell.execute_reply": "2024-10-05T07:32:32.211563Z"
    },
    "papermill": {
     "duration": 0.012258,
     "end_time": "2024-10-05T07:32:32.214374",
     "exception": false,
     "start_time": "2024-10-05T07:32:32.202116",
     "status": "completed"
    },
    "tags": []
   },
   "outputs": [],
   "source": [
    "param_dist = {\n",
    "    'n_estimators': [100, 200, 300, 500],\n",
    "    'max_depth': [3, 4, 5, 6, 7],\n",
    "    'learning_rate': [0.01, 0.05, 0.1, 0.2],\n",
    "    'subsample': [0.6, 0.8, 1.0],\n",
    "    'colsample_bytree': [0.6, 0.8, 1.0],\n",
    "    'gamma': [0, 0.1, 0.2, 0.5],\n",
    "    'min_child_weight': [1, 3, 5],\n",
    "    'scale_pos_weight': [1, 2, 5]\n",
    "}"
   ]
  },
  {
   "cell_type": "code",
   "execution_count": 9,
   "id": "e3352b3c",
   "metadata": {
    "execution": {
     "iopub.execute_input": "2024-10-05T07:32:32.223345Z",
     "iopub.status.busy": "2024-10-05T07:32:32.223048Z",
     "iopub.status.idle": "2024-10-05T07:32:32.227257Z",
     "shell.execute_reply": "2024-10-05T07:32:32.226408Z"
    },
    "papermill": {
     "duration": 0.010863,
     "end_time": "2024-10-05T07:32:32.229196",
     "exception": false,
     "start_time": "2024-10-05T07:32:32.218333",
     "status": "completed"
    },
    "tags": []
   },
   "outputs": [],
   "source": [
    "model = xgb.XGBClassifier(use_label_encoder=False, eval_metric='logloss')"
   ]
  },
  {
   "cell_type": "code",
   "execution_count": 10,
   "id": "7c197826",
   "metadata": {
    "execution": {
     "iopub.execute_input": "2024-10-05T07:32:32.238246Z",
     "iopub.status.busy": "2024-10-05T07:32:32.237949Z",
     "iopub.status.idle": "2024-10-05T07:36:25.499284Z",
     "shell.execute_reply": "2024-10-05T07:36:25.498452Z"
    },
    "papermill": {
     "duration": 233.272885,
     "end_time": "2024-10-05T07:36:25.506004",
     "exception": false,
     "start_time": "2024-10-05T07:32:32.233119",
     "status": "completed"
    },
    "tags": []
   },
   "outputs": [
    {
     "name": "stdout",
     "output_type": "stream",
     "text": [
      "Fitting 5 folds for each of 20 candidates, totalling 100 fits\n",
      "Best parameters: {'subsample': 1.0, 'scale_pos_weight': 1, 'n_estimators': 500, 'min_child_weight': 5, 'max_depth': 5, 'learning_rate': 0.05, 'gamma': 0.1, 'colsample_bytree': 0.8}\n",
      "Best cross-validation accuracy: 0.72\n"
     ]
    }
   ],
   "source": [
    "cv = StratifiedKFold(n_splits=5)\n",
    "\n",
    "random_search = RandomizedSearchCV(estimator=model, param_distributions=param_dist,\n",
    "                                   scoring='accuracy', n_iter=20, cv=cv, n_jobs=-1, verbose=1)\n",
    "\n",
    "random_search.fit(X_train, Y_train)\n",
    "\n",
    "print(f'Best parameters: {random_search.best_params_}')\n",
    "print(f'Best cross-validation accuracy: {random_search.best_score_:.2f}')"
   ]
  },
  {
   "cell_type": "code",
   "execution_count": 11,
   "id": "a6a8bc4d",
   "metadata": {
    "execution": {
     "iopub.execute_input": "2024-10-05T07:36:25.515910Z",
     "iopub.status.busy": "2024-10-05T07:36:25.515604Z",
     "iopub.status.idle": "2024-10-05T07:36:25.519765Z",
     "shell.execute_reply": "2024-10-05T07:36:25.518942Z"
    },
    "papermill": {
     "duration": 0.011248,
     "end_time": "2024-10-05T07:36:25.521593",
     "exception": false,
     "start_time": "2024-10-05T07:36:25.510345",
     "status": "completed"
    },
    "tags": []
   },
   "outputs": [],
   "source": [
    "best_model = random_search.best_estimator_"
   ]
  },
  {
   "cell_type": "code",
   "execution_count": 12,
   "id": "7b19ed51",
   "metadata": {
    "execution": {
     "iopub.execute_input": "2024-10-05T07:36:25.531096Z",
     "iopub.status.busy": "2024-10-05T07:36:25.530834Z",
     "iopub.status.idle": "2024-10-05T07:36:34.218620Z",
     "shell.execute_reply": "2024-10-05T07:36:34.217772Z"
    },
    "papermill": {
     "duration": 8.695156,
     "end_time": "2024-10-05T07:36:34.220995",
     "exception": false,
     "start_time": "2024-10-05T07:36:25.525839",
     "status": "completed"
    },
    "tags": []
   },
   "outputs": [],
   "source": [
    "test = pd.read_csv('/kaggle/input/mic-contest-mining-mines/Test.csv')\n",
    "test = clean_and_convert_to_float(test)"
   ]
  },
  {
   "cell_type": "code",
   "execution_count": 13,
   "id": "eb9dab3c",
   "metadata": {
    "execution": {
     "iopub.execute_input": "2024-10-05T07:36:34.231566Z",
     "iopub.status.busy": "2024-10-05T07:36:34.230957Z",
     "iopub.status.idle": "2024-10-05T07:36:34.365448Z",
     "shell.execute_reply": "2024-10-05T07:36:34.364686Z"
    },
    "papermill": {
     "duration": 0.14204,
     "end_time": "2024-10-05T07:36:34.367736",
     "exception": false,
     "start_time": "2024-10-05T07:36:34.225696",
     "status": "completed"
    },
    "tags": []
   },
   "outputs": [],
   "source": [
    "X_test = test[['S1', 'S2', 'S3', 'S4', 'S5', 'S6', 'S7', 'S8', 'S9', 'S10',\n",
    "                'S11', 'S12', 'S13', 'S14', 'S15', 'S16', 'S17', 'S18', \n",
    "                'S19', 'S20', 'S21', 'S22', 'S23', 'S24', 'S25', \n",
    "                'S26', 'S27', 'S28', 'S29', 'S30']]\n",
    "X_test = scaler.transform(X_test)\n",
    "\n",
    "Y_test = best_model.predict(X_test)\n",
    "\n",
    "label_mapping = {0: 'R', 1: 'M'}\n",
    "Y_test = np.vectorize(lambda label: label_mapping[label])(Y_test)"
   ]
  },
  {
   "cell_type": "code",
   "execution_count": 14,
   "id": "c9d99f65",
   "metadata": {
    "execution": {
     "iopub.execute_input": "2024-10-05T07:36:34.378590Z",
     "iopub.status.busy": "2024-10-05T07:36:34.377755Z",
     "iopub.status.idle": "2024-10-05T07:36:34.421318Z",
     "shell.execute_reply": "2024-10-05T07:36:34.420256Z"
    },
    "papermill": {
     "duration": 0.050731,
     "end_time": "2024-10-05T07:36:34.423225",
     "exception": false,
     "start_time": "2024-10-05T07:36:34.372494",
     "status": "completed"
    },
    "tags": []
   },
   "outputs": [
    {
     "name": "stdout",
     "output_type": "stream",
     "text": [
      "Predictions saved to t4.csv\n"
     ]
    }
   ],
   "source": [
    "test['Label'] = Y_test\n",
    "csv = test[['Id', \"Label\"]]\n",
    "csv.to_csv(\"t4.csv\", index=False)\n",
    "\n",
    "print(\"Predictions saved to t4.csv\")"
   ]
  }
 ],
 "metadata": {
  "kaggle": {
   "accelerator": "gpu",
   "dataSources": [
    {
     "datasetId": 5819793,
     "sourceId": 9551664,
     "sourceType": "datasetVersion"
    }
   ],
   "isGpuEnabled": true,
   "isInternetEnabled": true,
   "language": "python",
   "sourceType": "notebook"
  },
  "kernelspec": {
   "display_name": "Python 3",
   "language": "python",
   "name": "python3"
  },
  "language_info": {
   "codemirror_mode": {
    "name": "ipython",
    "version": 3
   },
   "file_extension": ".py",
   "mimetype": "text/x-python",
   "name": "python",
   "nbconvert_exporter": "python",
   "pygments_lexer": "ipython3",
   "version": "3.10.14"
  },
  "papermill": {
   "default_parameters": {},
   "duration": 260.425981,
   "end_time": "2024-10-05T07:36:37.045950",
   "environment_variables": {},
   "exception": null,
   "input_path": "__notebook__.ipynb",
   "output_path": "__notebook__.ipynb",
   "parameters": {},
   "start_time": "2024-10-05T07:32:16.619969",
   "version": "2.6.0"
  }
 },
 "nbformat": 4,
 "nbformat_minor": 5
}
