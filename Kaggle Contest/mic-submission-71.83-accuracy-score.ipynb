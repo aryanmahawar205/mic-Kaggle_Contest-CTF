{
 "cells": [
  {
   "cell_type": "code",
   "execution_count": 1,
   "id": "2e828d8f",
   "metadata": {
    "_cell_guid": "b1076dfc-b9ad-4769-8c92-a6c4dae69d19",
    "_uuid": "8f2839f25d086af736a60e9eeb907d3b93b6e0e5",
    "execution": {
     "iopub.execute_input": "2024-10-05T07:17:12.473011Z",
     "iopub.status.busy": "2024-10-05T07:17:12.472616Z",
     "iopub.status.idle": "2024-10-05T07:17:14.486418Z",
     "shell.execute_reply": "2024-10-05T07:17:14.485430Z"
    },
    "papermill": {
     "duration": 2.022622,
     "end_time": "2024-10-05T07:17:14.488869",
     "exception": false,
     "start_time": "2024-10-05T07:17:12.466247",
     "status": "completed"
    },
    "tags": []
   },
   "outputs": [],
   "source": [
    "import numpy as np\n",
    "import pandas as pd\n",
    "from sklearn.preprocessing import StandardScaler\n",
    "from sklearn.model_selection import RandomizedSearchCV\n",
    "import xgboost as xgb"
   ]
  },
  {
   "cell_type": "code",
   "execution_count": 2,
   "id": "b98ec7de",
   "metadata": {
    "execution": {
     "iopub.execute_input": "2024-10-05T07:17:14.499743Z",
     "iopub.status.busy": "2024-10-05T07:17:14.499054Z",
     "iopub.status.idle": "2024-10-05T07:17:16.631961Z",
     "shell.execute_reply": "2024-10-05T07:17:16.630916Z"
    },
    "papermill": {
     "duration": 2.140743,
     "end_time": "2024-10-05T07:17:16.634502",
     "exception": false,
     "start_time": "2024-10-05T07:17:14.493759",
     "status": "completed"
    },
    "tags": []
   },
   "outputs": [],
   "source": [
    "train = pd.read_csv(\"/kaggle/input/mic-contest-mining-mines/Train.csv\")"
   ]
  },
  {
   "cell_type": "code",
   "execution_count": 3,
   "id": "8dd8ceb9",
   "metadata": {
    "execution": {
     "iopub.execute_input": "2024-10-05T07:17:16.645516Z",
     "iopub.status.busy": "2024-10-05T07:17:16.645144Z",
     "iopub.status.idle": "2024-10-05T07:17:16.651263Z",
     "shell.execute_reply": "2024-10-05T07:17:16.650403Z"
    },
    "papermill": {
     "duration": 0.013879,
     "end_time": "2024-10-05T07:17:16.653333",
     "exception": false,
     "start_time": "2024-10-05T07:17:16.639454",
     "status": "completed"
    },
    "tags": []
   },
   "outputs": [],
   "source": [
    "def clean_numeric(cell_value):\n",
    "    value_str = str(cell_value).strip()\n",
    "    cleaned_value = ''.join([char for char in value_str if char.isdigit() or char == '.'])\n",
    "    if cleaned_value.count('.') > 1:\n",
    "        first_dot_index = cleaned_value.index('.')\n",
    "        cleaned_value = cleaned_value[:first_dot_index + 1] + cleaned_value[first_dot_index + 1:].replace('.', '')\n",
    "    return cleaned_value"
   ]
  },
  {
   "cell_type": "code",
   "execution_count": 4,
   "id": "7b228a57",
   "metadata": {
    "execution": {
     "iopub.execute_input": "2024-10-05T07:17:16.663655Z",
     "iopub.status.busy": "2024-10-05T07:17:16.663333Z",
     "iopub.status.idle": "2024-10-05T07:17:16.668358Z",
     "shell.execute_reply": "2024-10-05T07:17:16.667474Z"
    },
    "papermill": {
     "duration": 0.012381,
     "end_time": "2024-10-05T07:17:16.670317",
     "exception": false,
     "start_time": "2024-10-05T07:17:16.657936",
     "status": "completed"
    },
    "tags": []
   },
   "outputs": [],
   "source": [
    "def clean_and_convert_to_float(df):\n",
    "    for col in df.columns:\n",
    "        if col != 'Label':\n",
    "            df[col] = df[col].apply(clean_numeric)\n",
    "            df[col] = pd.to_numeric(df[col], errors='coerce')\n",
    "    return df"
   ]
  },
  {
   "cell_type": "code",
   "execution_count": 5,
   "id": "ff51af39",
   "metadata": {
    "execution": {
     "iopub.execute_input": "2024-10-05T07:17:16.681958Z",
     "iopub.status.busy": "2024-10-05T07:17:16.681576Z",
     "iopub.status.idle": "2024-10-05T07:17:25.170555Z",
     "shell.execute_reply": "2024-10-05T07:17:25.169743Z"
    },
    "papermill": {
     "duration": 8.498125,
     "end_time": "2024-10-05T07:17:25.173011",
     "exception": false,
     "start_time": "2024-10-05T07:17:16.674886",
     "status": "completed"
    },
    "tags": []
   },
   "outputs": [],
   "source": [
    "train = clean_and_convert_to_float(train)"
   ]
  },
  {
   "cell_type": "code",
   "execution_count": 6,
   "id": "21d40100",
   "metadata": {
    "execution": {
     "iopub.execute_input": "2024-10-05T07:17:25.183799Z",
     "iopub.status.busy": "2024-10-05T07:17:25.183446Z",
     "iopub.status.idle": "2024-10-05T07:17:25.214411Z",
     "shell.execute_reply": "2024-10-05T07:17:25.213510Z"
    },
    "papermill": {
     "duration": 0.038441,
     "end_time": "2024-10-05T07:17:25.216426",
     "exception": false,
     "start_time": "2024-10-05T07:17:25.177985",
     "status": "completed"
    },
    "tags": []
   },
   "outputs": [],
   "source": [
    "X_train = train.drop(['??', 'Label'], axis=1)\n",
    "Y_train = train['Label'].map({'R': 0, 'M': 1})"
   ]
  },
  {
   "cell_type": "code",
   "execution_count": 7,
   "id": "af1b6bd0",
   "metadata": {
    "execution": {
     "iopub.execute_input": "2024-10-05T07:17:25.227210Z",
     "iopub.status.busy": "2024-10-05T07:17:25.226909Z",
     "iopub.status.idle": "2024-10-05T07:17:25.271294Z",
     "shell.execute_reply": "2024-10-05T07:17:25.270520Z"
    },
    "papermill": {
     "duration": 0.052331,
     "end_time": "2024-10-05T07:17:25.273604",
     "exception": false,
     "start_time": "2024-10-05T07:17:25.221273",
     "status": "completed"
    },
    "tags": []
   },
   "outputs": [],
   "source": [
    "scaler = StandardScaler()\n",
    "X_train = scaler.fit_transform(X_train)"
   ]
  },
  {
   "cell_type": "code",
   "execution_count": 8,
   "id": "6ee64fc2",
   "metadata": {
    "execution": {
     "iopub.execute_input": "2024-10-05T07:17:25.284501Z",
     "iopub.status.busy": "2024-10-05T07:17:25.284195Z",
     "iopub.status.idle": "2024-10-05T07:17:25.289024Z",
     "shell.execute_reply": "2024-10-05T07:17:25.288154Z"
    },
    "papermill": {
     "duration": 0.012334,
     "end_time": "2024-10-05T07:17:25.290906",
     "exception": false,
     "start_time": "2024-10-05T07:17:25.278572",
     "status": "completed"
    },
    "tags": []
   },
   "outputs": [],
   "source": [
    "param_dist = {\n",
    "    'n_estimators': [100, 200, 300],\n",
    "    'max_depth': [3, 4, 5, 6],\n",
    "    'learning_rate': [0.01, 0.1],\n",
    "    'subsample': [0.8, 1.0],\n",
    "    'colsample_bytree': [0.8, 1.0],\n",
    "}"
   ]
  },
  {
   "cell_type": "code",
   "execution_count": 9,
   "id": "bc8cd699",
   "metadata": {
    "execution": {
     "iopub.execute_input": "2024-10-05T07:17:25.301621Z",
     "iopub.status.busy": "2024-10-05T07:17:25.301273Z",
     "iopub.status.idle": "2024-10-05T07:17:25.306155Z",
     "shell.execute_reply": "2024-10-05T07:17:25.305258Z"
    },
    "papermill": {
     "duration": 0.012524,
     "end_time": "2024-10-05T07:17:25.308113",
     "exception": false,
     "start_time": "2024-10-05T07:17:25.295589",
     "status": "completed"
    },
    "tags": []
   },
   "outputs": [],
   "source": [
    "model = xgb.XGBClassifier(use_label_encoder=False, eval_metric='logloss')"
   ]
  },
  {
   "cell_type": "code",
   "execution_count": 10,
   "id": "f79d34b0",
   "metadata": {
    "execution": {
     "iopub.execute_input": "2024-10-05T07:17:25.319252Z",
     "iopub.status.busy": "2024-10-05T07:17:25.318705Z",
     "iopub.status.idle": "2024-10-05T07:17:25.323435Z",
     "shell.execute_reply": "2024-10-05T07:17:25.322473Z"
    },
    "papermill": {
     "duration": 0.012642,
     "end_time": "2024-10-05T07:17:25.325578",
     "exception": false,
     "start_time": "2024-10-05T07:17:25.312936",
     "status": "completed"
    },
    "tags": []
   },
   "outputs": [],
   "source": [
    "random_search = RandomizedSearchCV(estimator=model, param_distributions=param_dist,\n",
    "                                   scoring='accuracy', n_iter=10, cv=3, n_jobs=-1, verbose=1)"
   ]
  },
  {
   "cell_type": "code",
   "execution_count": 11,
   "id": "02a53743",
   "metadata": {
    "execution": {
     "iopub.execute_input": "2024-10-05T07:17:25.336538Z",
     "iopub.status.busy": "2024-10-05T07:17:25.336210Z",
     "iopub.status.idle": "2024-10-05T07:18:11.541629Z",
     "shell.execute_reply": "2024-10-05T07:18:11.540675Z"
    },
    "papermill": {
     "duration": 46.219016,
     "end_time": "2024-10-05T07:18:11.549398",
     "exception": false,
     "start_time": "2024-10-05T07:17:25.330382",
     "status": "completed"
    },
    "tags": []
   },
   "outputs": [
    {
     "name": "stdout",
     "output_type": "stream",
     "text": [
      "Fitting 3 folds for each of 10 candidates, totalling 30 fits\n"
     ]
    },
    {
     "data": {
      "text/html": [
       "<style>#sk-container-id-1 {color: black;background-color: white;}#sk-container-id-1 pre{padding: 0;}#sk-container-id-1 div.sk-toggleable {background-color: white;}#sk-container-id-1 label.sk-toggleable__label {cursor: pointer;display: block;width: 100%;margin-bottom: 0;padding: 0.3em;box-sizing: border-box;text-align: center;}#sk-container-id-1 label.sk-toggleable__label-arrow:before {content: \"▸\";float: left;margin-right: 0.25em;color: #696969;}#sk-container-id-1 label.sk-toggleable__label-arrow:hover:before {color: black;}#sk-container-id-1 div.sk-estimator:hover label.sk-toggleable__label-arrow:before {color: black;}#sk-container-id-1 div.sk-toggleable__content {max-height: 0;max-width: 0;overflow: hidden;text-align: left;background-color: #f0f8ff;}#sk-container-id-1 div.sk-toggleable__content pre {margin: 0.2em;color: black;border-radius: 0.25em;background-color: #f0f8ff;}#sk-container-id-1 input.sk-toggleable__control:checked~div.sk-toggleable__content {max-height: 200px;max-width: 100%;overflow: auto;}#sk-container-id-1 input.sk-toggleable__control:checked~label.sk-toggleable__label-arrow:before {content: \"▾\";}#sk-container-id-1 div.sk-estimator input.sk-toggleable__control:checked~label.sk-toggleable__label {background-color: #d4ebff;}#sk-container-id-1 div.sk-label input.sk-toggleable__control:checked~label.sk-toggleable__label {background-color: #d4ebff;}#sk-container-id-1 input.sk-hidden--visually {border: 0;clip: rect(1px 1px 1px 1px);clip: rect(1px, 1px, 1px, 1px);height: 1px;margin: -1px;overflow: hidden;padding: 0;position: absolute;width: 1px;}#sk-container-id-1 div.sk-estimator {font-family: monospace;background-color: #f0f8ff;border: 1px dotted black;border-radius: 0.25em;box-sizing: border-box;margin-bottom: 0.5em;}#sk-container-id-1 div.sk-estimator:hover {background-color: #d4ebff;}#sk-container-id-1 div.sk-parallel-item::after {content: \"\";width: 100%;border-bottom: 1px solid gray;flex-grow: 1;}#sk-container-id-1 div.sk-label:hover label.sk-toggleable__label {background-color: #d4ebff;}#sk-container-id-1 div.sk-serial::before {content: \"\";position: absolute;border-left: 1px solid gray;box-sizing: border-box;top: 0;bottom: 0;left: 50%;z-index: 0;}#sk-container-id-1 div.sk-serial {display: flex;flex-direction: column;align-items: center;background-color: white;padding-right: 0.2em;padding-left: 0.2em;position: relative;}#sk-container-id-1 div.sk-item {position: relative;z-index: 1;}#sk-container-id-1 div.sk-parallel {display: flex;align-items: stretch;justify-content: center;background-color: white;position: relative;}#sk-container-id-1 div.sk-item::before, #sk-container-id-1 div.sk-parallel-item::before {content: \"\";position: absolute;border-left: 1px solid gray;box-sizing: border-box;top: 0;bottom: 0;left: 50%;z-index: -1;}#sk-container-id-1 div.sk-parallel-item {display: flex;flex-direction: column;z-index: 1;position: relative;background-color: white;}#sk-container-id-1 div.sk-parallel-item:first-child::after {align-self: flex-end;width: 50%;}#sk-container-id-1 div.sk-parallel-item:last-child::after {align-self: flex-start;width: 50%;}#sk-container-id-1 div.sk-parallel-item:only-child::after {width: 0;}#sk-container-id-1 div.sk-dashed-wrapped {border: 1px dashed gray;margin: 0 0.4em 0.5em 0.4em;box-sizing: border-box;padding-bottom: 0.4em;background-color: white;}#sk-container-id-1 div.sk-label label {font-family: monospace;font-weight: bold;display: inline-block;line-height: 1.2em;}#sk-container-id-1 div.sk-label-container {text-align: center;}#sk-container-id-1 div.sk-container {/* jupyter's `normalize.less` sets `[hidden] { display: none; }` but bootstrap.min.css set `[hidden] { display: none !important; }` so we also need the `!important` here to be able to override the default hidden behavior on the sphinx rendered scikit-learn.org. See: https://github.com/scikit-learn/scikit-learn/issues/21755 */display: inline-block !important;position: relative;}#sk-container-id-1 div.sk-text-repr-fallback {display: none;}</style><div id=\"sk-container-id-1\" class=\"sk-top-container\"><div class=\"sk-text-repr-fallback\"><pre>RandomizedSearchCV(cv=3,\n",
       "                   estimator=XGBClassifier(base_score=None, booster=None,\n",
       "                                           callbacks=None,\n",
       "                                           colsample_bylevel=None,\n",
       "                                           colsample_bynode=None,\n",
       "                                           colsample_bytree=None, device=None,\n",
       "                                           early_stopping_rounds=None,\n",
       "                                           enable_categorical=False,\n",
       "                                           eval_metric=&#x27;logloss&#x27;,\n",
       "                                           feature_types=None, gamma=None,\n",
       "                                           grow_policy=None,\n",
       "                                           importance_type=None,\n",
       "                                           interaction_constraints=None,\n",
       "                                           learning...\n",
       "                                           max_leaves=None,\n",
       "                                           min_child_weight=None, missing=nan,\n",
       "                                           monotone_constraints=None,\n",
       "                                           multi_strategy=None,\n",
       "                                           n_estimators=None, n_jobs=None,\n",
       "                                           num_parallel_tree=None,\n",
       "                                           random_state=None, ...),\n",
       "                   n_jobs=-1,\n",
       "                   param_distributions={&#x27;colsample_bytree&#x27;: [0.8, 1.0],\n",
       "                                        &#x27;learning_rate&#x27;: [0.01, 0.1],\n",
       "                                        &#x27;max_depth&#x27;: [3, 4, 5, 6],\n",
       "                                        &#x27;n_estimators&#x27;: [100, 200, 300],\n",
       "                                        &#x27;subsample&#x27;: [0.8, 1.0]},\n",
       "                   scoring=&#x27;accuracy&#x27;, verbose=1)</pre><b>In a Jupyter environment, please rerun this cell to show the HTML representation or trust the notebook. <br />On GitHub, the HTML representation is unable to render, please try loading this page with nbviewer.org.</b></div><div class=\"sk-container\" hidden><div class=\"sk-item sk-dashed-wrapped\"><div class=\"sk-label-container\"><div class=\"sk-label sk-toggleable\"><input class=\"sk-toggleable__control sk-hidden--visually\" id=\"sk-estimator-id-1\" type=\"checkbox\" ><label for=\"sk-estimator-id-1\" class=\"sk-toggleable__label sk-toggleable__label-arrow\">RandomizedSearchCV</label><div class=\"sk-toggleable__content\"><pre>RandomizedSearchCV(cv=3,\n",
       "                   estimator=XGBClassifier(base_score=None, booster=None,\n",
       "                                           callbacks=None,\n",
       "                                           colsample_bylevel=None,\n",
       "                                           colsample_bynode=None,\n",
       "                                           colsample_bytree=None, device=None,\n",
       "                                           early_stopping_rounds=None,\n",
       "                                           enable_categorical=False,\n",
       "                                           eval_metric=&#x27;logloss&#x27;,\n",
       "                                           feature_types=None, gamma=None,\n",
       "                                           grow_policy=None,\n",
       "                                           importance_type=None,\n",
       "                                           interaction_constraints=None,\n",
       "                                           learning...\n",
       "                                           max_leaves=None,\n",
       "                                           min_child_weight=None, missing=nan,\n",
       "                                           monotone_constraints=None,\n",
       "                                           multi_strategy=None,\n",
       "                                           n_estimators=None, n_jobs=None,\n",
       "                                           num_parallel_tree=None,\n",
       "                                           random_state=None, ...),\n",
       "                   n_jobs=-1,\n",
       "                   param_distributions={&#x27;colsample_bytree&#x27;: [0.8, 1.0],\n",
       "                                        &#x27;learning_rate&#x27;: [0.01, 0.1],\n",
       "                                        &#x27;max_depth&#x27;: [3, 4, 5, 6],\n",
       "                                        &#x27;n_estimators&#x27;: [100, 200, 300],\n",
       "                                        &#x27;subsample&#x27;: [0.8, 1.0]},\n",
       "                   scoring=&#x27;accuracy&#x27;, verbose=1)</pre></div></div></div><div class=\"sk-parallel\"><div class=\"sk-parallel-item\"><div class=\"sk-item\"><div class=\"sk-label-container\"><div class=\"sk-label sk-toggleable\"><input class=\"sk-toggleable__control sk-hidden--visually\" id=\"sk-estimator-id-2\" type=\"checkbox\" ><label for=\"sk-estimator-id-2\" class=\"sk-toggleable__label sk-toggleable__label-arrow\">estimator: XGBClassifier</label><div class=\"sk-toggleable__content\"><pre>XGBClassifier(base_score=None, booster=None, callbacks=None,\n",
       "              colsample_bylevel=None, colsample_bynode=None,\n",
       "              colsample_bytree=None, device=None, early_stopping_rounds=None,\n",
       "              enable_categorical=False, eval_metric=&#x27;logloss&#x27;,\n",
       "              feature_types=None, gamma=None, grow_policy=None,\n",
       "              importance_type=None, interaction_constraints=None,\n",
       "              learning_rate=None, max_bin=None, max_cat_threshold=None,\n",
       "              max_cat_to_onehot=None, max_delta_step=None, max_depth=None,\n",
       "              max_leaves=None, min_child_weight=None, missing=nan,\n",
       "              monotone_constraints=None, multi_strategy=None, n_estimators=None,\n",
       "              n_jobs=None, num_parallel_tree=None, random_state=None, ...)</pre></div></div></div><div class=\"sk-serial\"><div class=\"sk-item\"><div class=\"sk-estimator sk-toggleable\"><input class=\"sk-toggleable__control sk-hidden--visually\" id=\"sk-estimator-id-3\" type=\"checkbox\" ><label for=\"sk-estimator-id-3\" class=\"sk-toggleable__label sk-toggleable__label-arrow\">XGBClassifier</label><div class=\"sk-toggleable__content\"><pre>XGBClassifier(base_score=None, booster=None, callbacks=None,\n",
       "              colsample_bylevel=None, colsample_bynode=None,\n",
       "              colsample_bytree=None, device=None, early_stopping_rounds=None,\n",
       "              enable_categorical=False, eval_metric=&#x27;logloss&#x27;,\n",
       "              feature_types=None, gamma=None, grow_policy=None,\n",
       "              importance_type=None, interaction_constraints=None,\n",
       "              learning_rate=None, max_bin=None, max_cat_threshold=None,\n",
       "              max_cat_to_onehot=None, max_delta_step=None, max_depth=None,\n",
       "              max_leaves=None, min_child_weight=None, missing=nan,\n",
       "              monotone_constraints=None, multi_strategy=None, n_estimators=None,\n",
       "              n_jobs=None, num_parallel_tree=None, random_state=None, ...)</pre></div></div></div></div></div></div></div></div></div></div>"
      ],
      "text/plain": [
       "RandomizedSearchCV(cv=3,\n",
       "                   estimator=XGBClassifier(base_score=None, booster=None,\n",
       "                                           callbacks=None,\n",
       "                                           colsample_bylevel=None,\n",
       "                                           colsample_bynode=None,\n",
       "                                           colsample_bytree=None, device=None,\n",
       "                                           early_stopping_rounds=None,\n",
       "                                           enable_categorical=False,\n",
       "                                           eval_metric='logloss',\n",
       "                                           feature_types=None, gamma=None,\n",
       "                                           grow_policy=None,\n",
       "                                           importance_type=None,\n",
       "                                           interaction_constraints=None,\n",
       "                                           learning...\n",
       "                                           max_leaves=None,\n",
       "                                           min_child_weight=None, missing=nan,\n",
       "                                           monotone_constraints=None,\n",
       "                                           multi_strategy=None,\n",
       "                                           n_estimators=None, n_jobs=None,\n",
       "                                           num_parallel_tree=None,\n",
       "                                           random_state=None, ...),\n",
       "                   n_jobs=-1,\n",
       "                   param_distributions={'colsample_bytree': [0.8, 1.0],\n",
       "                                        'learning_rate': [0.01, 0.1],\n",
       "                                        'max_depth': [3, 4, 5, 6],\n",
       "                                        'n_estimators': [100, 200, 300],\n",
       "                                        'subsample': [0.8, 1.0]},\n",
       "                   scoring='accuracy', verbose=1)"
      ]
     },
     "execution_count": 11,
     "metadata": {},
     "output_type": "execute_result"
    }
   ],
   "source": [
    "random_search.fit(X_train, Y_train)"
   ]
  },
  {
   "cell_type": "code",
   "execution_count": 12,
   "id": "5c369697",
   "metadata": {
    "execution": {
     "iopub.execute_input": "2024-10-05T07:18:11.561890Z",
     "iopub.status.busy": "2024-10-05T07:18:11.561517Z",
     "iopub.status.idle": "2024-10-05T07:18:11.566642Z",
     "shell.execute_reply": "2024-10-05T07:18:11.565712Z"
    },
    "papermill": {
     "duration": 0.013998,
     "end_time": "2024-10-05T07:18:11.568662",
     "exception": false,
     "start_time": "2024-10-05T07:18:11.554664",
     "status": "completed"
    },
    "tags": []
   },
   "outputs": [
    {
     "name": "stdout",
     "output_type": "stream",
     "text": [
      "Best parameters: {'subsample': 0.8, 'n_estimators': 300, 'max_depth': 3, 'learning_rate': 0.1, 'colsample_bytree': 1.0}\n",
      "Best cross-validation accuracy: 0.72\n"
     ]
    }
   ],
   "source": [
    "print(f'Best parameters: {random_search.best_params_}')\n",
    "print(f'Best cross-validation accuracy: {random_search.best_score_:.2f}')"
   ]
  },
  {
   "cell_type": "code",
   "execution_count": 13,
   "id": "80f37251",
   "metadata": {
    "execution": {
     "iopub.execute_input": "2024-10-05T07:18:11.580737Z",
     "iopub.status.busy": "2024-10-05T07:18:11.580426Z",
     "iopub.status.idle": "2024-10-05T07:18:11.584340Z",
     "shell.execute_reply": "2024-10-05T07:18:11.583543Z"
    },
    "papermill": {
     "duration": 0.012376,
     "end_time": "2024-10-05T07:18:11.586325",
     "exception": false,
     "start_time": "2024-10-05T07:18:11.573949",
     "status": "completed"
    },
    "tags": []
   },
   "outputs": [],
   "source": [
    "best_model = random_search.best_estimator_"
   ]
  },
  {
   "cell_type": "code",
   "execution_count": 14,
   "id": "fe99c403",
   "metadata": {
    "execution": {
     "iopub.execute_input": "2024-10-05T07:18:11.598381Z",
     "iopub.status.busy": "2024-10-05T07:18:11.598097Z",
     "iopub.status.idle": "2024-10-05T07:18:20.509902Z",
     "shell.execute_reply": "2024-10-05T07:18:20.508871Z"
    },
    "papermill": {
     "duration": 8.920689,
     "end_time": "2024-10-05T07:18:20.512370",
     "exception": false,
     "start_time": "2024-10-05T07:18:11.591681",
     "status": "completed"
    },
    "tags": []
   },
   "outputs": [],
   "source": [
    "test = pd.read_csv('/kaggle/input/mic-contest-mining-mines/Test.csv')\n",
    "test = clean_and_convert_to_float(test)"
   ]
  },
  {
   "cell_type": "code",
   "execution_count": 15,
   "id": "bd0b8dd1",
   "metadata": {
    "execution": {
     "iopub.execute_input": "2024-10-05T07:18:20.525387Z",
     "iopub.status.busy": "2024-10-05T07:18:20.525053Z",
     "iopub.status.idle": "2024-10-05T07:18:20.550220Z",
     "shell.execute_reply": "2024-10-05T07:18:20.549212Z"
    },
    "papermill": {
     "duration": 0.034165,
     "end_time": "2024-10-05T07:18:20.552604",
     "exception": false,
     "start_time": "2024-10-05T07:18:20.518439",
     "status": "completed"
    },
    "tags": []
   },
   "outputs": [],
   "source": [
    "X_test = test[['S1', 'S2', 'S3', 'S4', 'S5', 'S6', 'S7', 'S8', 'S9', 'S10',\n",
    "                'S11', 'S12', 'S13', 'S14', 'S15', 'S16', 'S17', 'S18', \n",
    "                'S19', 'S20', 'S21', 'S22', 'S23', 'S24', 'S25', \n",
    "                'S26', 'S27', 'S28', 'S29', 'S30']]\n",
    "X_test = scaler.transform(X_test)"
   ]
  },
  {
   "cell_type": "code",
   "execution_count": 16,
   "id": "df8803b7",
   "metadata": {
    "execution": {
     "iopub.execute_input": "2024-10-05T07:18:20.565520Z",
     "iopub.status.busy": "2024-10-05T07:18:20.565173Z",
     "iopub.status.idle": "2024-10-05T07:18:20.603301Z",
     "shell.execute_reply": "2024-10-05T07:18:20.602532Z"
    },
    "papermill": {
     "duration": 0.046646,
     "end_time": "2024-10-05T07:18:20.605318",
     "exception": false,
     "start_time": "2024-10-05T07:18:20.558672",
     "status": "completed"
    },
    "tags": []
   },
   "outputs": [],
   "source": [
    "Y_test = best_model.predict(X_test)"
   ]
  },
  {
   "cell_type": "code",
   "execution_count": 17,
   "id": "c63a9815",
   "metadata": {
    "execution": {
     "iopub.execute_input": "2024-10-05T07:18:20.621033Z",
     "iopub.status.busy": "2024-10-05T07:18:20.620722Z",
     "iopub.status.idle": "2024-10-05T07:18:20.640139Z",
     "shell.execute_reply": "2024-10-05T07:18:20.639159Z"
    },
    "papermill": {
     "duration": 0.029752,
     "end_time": "2024-10-05T07:18:20.642408",
     "exception": false,
     "start_time": "2024-10-05T07:18:20.612656",
     "status": "completed"
    },
    "tags": []
   },
   "outputs": [],
   "source": [
    "label_mapping = {0: 'R', 1: 'M'}\n",
    "Y_test = np.vectorize(lambda label: label_mapping[label])(Y_test)"
   ]
  },
  {
   "cell_type": "code",
   "execution_count": 18,
   "id": "e86b192f",
   "metadata": {
    "execution": {
     "iopub.execute_input": "2024-10-05T07:18:20.655893Z",
     "iopub.status.busy": "2024-10-05T07:18:20.655518Z",
     "iopub.status.idle": "2024-10-05T07:18:20.700207Z",
     "shell.execute_reply": "2024-10-05T07:18:20.699361Z"
    },
    "papermill": {
     "duration": 0.053582,
     "end_time": "2024-10-05T07:18:20.702232",
     "exception": false,
     "start_time": "2024-10-05T07:18:20.648650",
     "status": "completed"
    },
    "tags": []
   },
   "outputs": [
    {
     "name": "stdout",
     "output_type": "stream",
     "text": [
      "Predictions saved to t4.csv\n"
     ]
    }
   ],
   "source": [
    "test['Label'] = Y_test\n",
    "csv = test[['Id', \"Label\"]]\n",
    "csv.to_csv(\"t4.csv\", index=False)\n",
    "\n",
    "print(\"Predictions saved to t4.csv\")"
   ]
  }
 ],
 "metadata": {
  "kaggle": {
   "accelerator": "gpu",
   "dataSources": [
    {
     "datasetId": 5819793,
     "sourceId": 9551664,
     "sourceType": "datasetVersion"
    }
   ],
   "isGpuEnabled": true,
   "isInternetEnabled": true,
   "language": "python",
   "sourceType": "notebook"
  },
  "kernelspec": {
   "display_name": "Python 3",
   "language": "python",
   "name": "python3"
  },
  "language_info": {
   "codemirror_mode": {
    "name": "ipython",
    "version": 3
   },
   "file_extension": ".py",
   "mimetype": "text/x-python",
   "name": "python",
   "nbconvert_exporter": "python",
   "pygments_lexer": "ipython3",
   "version": "3.10.14"
  },
  "papermill": {
   "default_parameters": {},
   "duration": 73.604486,
   "end_time": "2024-10-05T07:18:23.325533",
   "environment_variables": {},
   "exception": null,
   "input_path": "__notebook__.ipynb",
   "output_path": "__notebook__.ipynb",
   "parameters": {},
   "start_time": "2024-10-05T07:17:09.721047",
   "version": "2.6.0"
  }
 },
 "nbformat": 4,
 "nbformat_minor": 5
}
